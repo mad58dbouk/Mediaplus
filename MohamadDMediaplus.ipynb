{
  "nbformat": 4,
  "nbformat_minor": 0,
  "metadata": {
    "colab": {
      "name": "MohamadDMediaplus.ipynb",
      "provenance": [],
      "collapsed_sections": []
    },
    "kernelspec": {
      "name": "python3",
      "display_name": "Python 3"
    },
    "language_info": {
      "name": "python"
    }
  },
  "cells": [
    {
      "cell_type": "code",
      "execution_count": 1,
      "metadata": {
        "id": "Stux9W9mcPAu"
      },
      "outputs": [],
      "source": [
        "import pandas as pd"
      ]
    },
    {
      "cell_type": "code",
      "source": [
        "import numpy as np"
      ],
      "metadata": {
        "id": "V4e0h89ncSg5"
      },
      "execution_count": 2,
      "outputs": []
    },
    {
      "cell_type": "code",
      "source": [
        "df = pd.read_csv(\"/content/drive/MyDrive/Mediaplus.csv\")"
      ],
      "metadata": {
        "id": "SBHPHCn1cVkC"
      },
      "execution_count": 3,
      "outputs": []
    },
    {
      "cell_type": "code",
      "source": [
        "df10 = df.copy()"
      ],
      "metadata": {
        "id": "St_49vYNcerK"
      },
      "execution_count": 4,
      "outputs": []
    },
    {
      "cell_type": "markdown",
      "source": [
        "Exploring Shape of Data"
      ],
      "metadata": {
        "id": "zsO3pvYUc1Px"
      }
    },
    {
      "cell_type": "code",
      "source": [
        "df10.shape"
      ],
      "metadata": {
        "colab": {
          "base_uri": "https://localhost:8080/"
        },
        "id": "UkvTG733cjeu",
        "outputId": "f071a4ef-354b-4316-dc57-a77daee602d3"
      },
      "execution_count": 5,
      "outputs": [
        {
          "output_type": "execute_result",
          "data": {
            "text/plain": [
              "(35770, 17)"
            ]
          },
          "metadata": {},
          "execution_count": 5
        }
      ]
    },
    {
      "cell_type": "markdown",
      "source": [
        "Exploring Null values"
      ],
      "metadata": {
        "id": "-w5RZLfEc4NW"
      }
    },
    {
      "cell_type": "code",
      "source": [
        "df10.info()"
      ],
      "metadata": {
        "colab": {
          "base_uri": "https://localhost:8080/"
        },
        "id": "AUoC5gh5cmCp",
        "outputId": "6abb4284-a536-4534-8da8-590548a7e35d"
      },
      "execution_count": 6,
      "outputs": [
        {
          "output_type": "stream",
          "name": "stdout",
          "text": [
            "<class 'pandas.core.frame.DataFrame'>\n",
            "RangeIndex: 35770 entries, 0 to 35769\n",
            "Data columns (total 17 columns):\n",
            " #   Column                Non-Null Count  Dtype  \n",
            "---  ------                --------------  -----  \n",
            " 0   Reporting starts      35770 non-null  object \n",
            " 1   Reporting ends        35770 non-null  object \n",
            " 2   Campaign name         35770 non-null  object \n",
            " 3   Reach                 35770 non-null  int64  \n",
            " 4   Impressions           35770 non-null  int64  \n",
            " 5   Link clicks           2321 non-null   float64\n",
            " 6   Landing page views    2042 non-null   float64\n",
            " 7   Post engagement       2198 non-null   float64\n",
            " 8   3-second video plays  1053 non-null   float64\n",
            " 9   ThruPlays             1052 non-null   float64\n",
            " 10  Post comments         1554 non-null   float64\n",
            " 11  Post saves            1466 non-null   float64\n",
            " 12  Post reactions        2164 non-null   float64\n",
            " 13  Post shares           1150 non-null   float64\n",
            " 14  Video plays at 50%    1052 non-null   float64\n",
            " 15  Leads                 641 non-null    float64\n",
            " 16  Amount Spent          35770 non-null  float64\n",
            "dtypes: float64(12), int64(2), object(3)\n",
            "memory usage: 4.6+ MB\n"
          ]
        }
      ]
    },
    {
      "cell_type": "code",
      "source": [
        "df10.isna().sum().plot(kind=\"bar\")"
      ],
      "metadata": {
        "colab": {
          "base_uri": "https://localhost:8080/",
          "height": 378
        },
        "id": "n8yGewd0cpXw",
        "outputId": "23af8871-6404-4efa-9626-17a68ea43996"
      },
      "execution_count": 7,
      "outputs": [
        {
          "output_type": "execute_result",
          "data": {
            "text/plain": [
              "<matplotlib.axes._subplots.AxesSubplot at 0x7fac77147490>"
            ]
          },
          "metadata": {},
          "execution_count": 7
        },
        {
          "output_type": "display_data",
          "data": {
            "text/plain": [
              "<Figure size 432x288 with 1 Axes>"
            ],
            "image/png": "[encoded data removed]"
          },
          "metadata": {
            "needs_background": "light"
          }
        }
      ]
    },
    {
      "cell_type": "markdown",
      "source": [
        "Filling NA with 0"
      ],
      "metadata": {
        "id": "S-1Chi2gc6wb"
      }
    },
    {
      "cell_type": "code",
      "source": [
        "df10.fillna(0, inplace = True)"
      ],
      "metadata": {
        "id": "N9h-vRX8crdz"
      },
      "execution_count": 8,
      "outputs": []
    },
    {
      "cell_type": "code",
      "source": [
        "df10.var()"
      ],
      "metadata": {
        "colab": {
          "base_uri": "https://localhost:8080/"
        },
        "id": "xrQX53z_cxVQ",
        "outputId": "921ba1e2-e88a-420f-ed36-c19075701c90"
      },
      "execution_count": 9,
      "outputs": [
        {
          "output_type": "stream",
          "name": "stderr",
          "text": [
            "/usr/local/lib/python3.7/dist-packages/ipykernel_launcher.py:1: FutureWarning: Dropping of nuisance columns in DataFrame reductions (with 'numeric_only=None') is deprecated; in a future version this will raise TypeError.  Select only valid columns before calling the reduction.\n",
            "  \"\"\"Entry point for launching an IPython kernel.\n"
          ]
        },
        {
          "output_type": "execute_result",
          "data": {
            "text/plain": [
              "Reach                   1.768021e+09\n",
              "Impressions             2.073379e+09\n",
              "Link clicks             2.835494e+04\n",
              "Landing page views      7.771209e+02\n",
              "Post engagement         2.080676e+07\n",
              "3-second video plays    2.163761e+07\n",
              "ThruPlays               3.141147e+06\n",
              "Post comments           1.682785e+01\n",
              "Post saves              3.694782e+00\n",
              "Post reactions          1.263943e+04\n",
              "Post shares             1.489384e+01\n",
              "Video plays at 50%      4.266853e+06\n",
              "Leads                   1.079619e+01\n",
              "Amount Spent            1.055184e+04\n",
              "dtype: float64"
            ]
          },
          "metadata": {},
          "execution_count": 9
        }
      ]
    },
    {
      "cell_type": "markdown",
      "source": [
        "no Full duplicates"
      ],
      "metadata": {
        "id": "n5UE5nqadCTT"
      }
    },
    {
      "cell_type": "code",
      "source": [
        "df10.duplicated().sum()"
      ],
      "metadata": {
        "colab": {
          "base_uri": "https://localhost:8080/"
        },
        "id": "36lgJXfMdETs",
        "outputId": "fd240a3a-3dc5-4a0c-da4d-7acb7172f5a8"
      },
      "execution_count": 10,
      "outputs": [
        {
          "output_type": "execute_result",
          "data": {
            "text/plain": [
              "0"
            ]
          },
          "metadata": {},
          "execution_count": 10
        }
      ]
    },
    {
      "cell_type": "markdown",
      "source": [
        "creating column with Campaign objectives"
      ],
      "metadata": {
        "id": "tzBDbp9EdKZf"
      }
    },
    {
      "cell_type": "code",
      "source": [
        "desc = {\"_CPE_\":\"CPE\",\"_CPLPV_\": \"CPLPV\",\"_CPC_\":\"CPC\",\"_CPMR_\":\"CPMR\",\"_CPV_\":\"CPV\",\"_CPM_\":\"CPM\",\"_CPL_\":\"CPL\",\"_CPA_\":\"CPA\",\"_Remarketing_\":\"Remarkerting\"}\n",
        "\n",
        "def check_desc(x):\n",
        "    for key in desc:\n",
        "        if key.lower() in x.lower():\n",
        "            return desc[key]\n",
        "    return ''\n",
        "\n",
        "df10[\"Campaign_objective\"] = df10[\"Campaign name\"].map(lambda x: check_desc(x))"
      ],
      "metadata": {
        "id": "MtjmVXEUdGbg"
      },
      "execution_count": 11,
      "outputs": []
    },
    {
      "cell_type": "markdown",
      "source": [
        "creating columns with Countries"
      ],
      "metadata": {
        "id": "qDKvp1PXdONo"
      }
    },
    {
      "cell_type": "code",
      "source": [
        "desc = {\"_EGYPT_\":\"EGYPT\",\"KSA\":\"KSA\",\"_UAE_\":\"UAE\",\"QATAR\":\"QATAR\"}\n",
        "\n",
        "def check_desc(x):\n",
        "    for key in desc:\n",
        "        if key.lower() in x.lower():\n",
        "            return desc[key]\n",
        "    return ''\n",
        "\n",
        "df10[\"country\"] = df10[\"Campaign name\"].map(lambda x: check_desc(x))"
      ],
      "metadata": {
        "id": "lr8qpDJTdTC_"
      },
      "execution_count": 12,
      "outputs": []
    },
    {
      "cell_type": "markdown",
      "source": [
        "Checking if all dates imply 0 day difference"
      ],
      "metadata": {
        "id": "9MNwsqWTdfEL"
      }
    },
    {
      "cell_type": "code",
      "source": [
        "print(df10['Reporting starts'].dtypes)\n",
        "print(df10['Reporting ends'].dtypes)"
      ],
      "metadata": {
        "colab": {
          "base_uri": "https://localhost:8080/"
        },
        "id": "oFLeRvCydX24",
        "outputId": "2e03965c-198a-4f31-fdb6-9c78547d79f5"
      },
      "execution_count": 13,
      "outputs": [
        {
          "output_type": "stream",
          "name": "stdout",
          "text": [
            "object\n",
            "object\n"
          ]
        }
      ]
    },
    {
      "cell_type": "code",
      "source": [
        "df10['Reporting starts']=pd.to_datetime(df10['Reporting starts'])\n",
        "df10['Reporting ends']=pd.to_datetime(df10['Reporting ends'])"
      ],
      "metadata": {
        "id": "vHAO5h2mdoDV"
      },
      "execution_count": 14,
      "outputs": []
    },
    {
      "cell_type": "code",
      "source": [
        "df10['Difference'] = (df10['Reporting starts'] - df10['Reporting ends']).dt.days"
      ],
      "metadata": {
        "id": "oELmFoLLdpWy"
      },
      "execution_count": 15,
      "outputs": []
    },
    {
      "cell_type": "code",
      "source": [
        "df10[df10.Difference != 0].shape[0]"
      ],
      "metadata": {
        "colab": {
          "base_uri": "https://localhost:8080/"
        },
        "id": "muM2NqAKdsiX",
        "outputId": "c8829ede-a6a4-4751-c5e3-f140d137117c"
      },
      "execution_count": 16,
      "outputs": [
        {
          "output_type": "execute_result",
          "data": {
            "text/plain": [
              "0"
            ]
          },
          "metadata": {},
          "execution_count": 16
        }
      ]
    },
    {
      "cell_type": "markdown",
      "source": [
        "Renaming Columns"
      ],
      "metadata": {
        "id": "AQ123WwFd5Yq"
      }
    },
    {
      "cell_type": "code",
      "source": [
        "df10.rename(columns={'Campaign name':'Campaign_name','Link clicks':'Link_clicks','Landing page views':'Landing_page_views','Post engagement':'Post_engagement','3-second video plays':'Three_second_video_plays','Post comments':'Post_comments','Post saves':'Post_saves','Post reactions':'Post_reactions','Post shares':'Post_shares','Video plays at 50%':'Video_plays_at50_percent','Amount Spent':'Amount_Spent'}, inplace = True)"
      ],
      "metadata": {
        "id": "axLv_M_Ad2uJ"
      },
      "execution_count": 17,
      "outputs": []
    },
    {
      "cell_type": "markdown",
      "source": [
        "Dropping columns not factored in ML"
      ],
      "metadata": {
        "id": "9xHu8FOreA5X"
      }
    },
    {
      "cell_type": "code",
      "source": [
        "df10.drop(columns=['Reporting starts','Reporting ends','Campaign_name'], axis=1, inplace = True)"
      ],
      "metadata": {
        "id": "0i65tDnbeDYz"
      },
      "execution_count": 18,
      "outputs": []
    },
    {
      "cell_type": "code",
      "source": [
        "df10.drop(columns=['Difference'], axis=1, inplace= True)"
      ],
      "metadata": {
        "id": "32VTmwz4eHPB"
      },
      "execution_count": 19,
      "outputs": []
    },
    {
      "cell_type": "markdown",
      "source": [
        "Splitting the data"
      ],
      "metadata": {
        "id": "N2k8VplmeO8S"
      }
    },
    {
      "cell_type": "code",
      "source": [
        "from sklearn.model_selection import train_test_split\n",
        "train_val_set, test_set = train_test_split(df10, test_size=0.2, random_state=111, shuffle = True)"
      ],
      "metadata": {
        "id": "QwionHvleQY-"
      },
      "execution_count": 20,
      "outputs": []
    },
    {
      "cell_type": "code",
      "source": [
        "train_set, val_set = train_test_split(train_val_set, test_size=0.2, random_state=111, shuffle = True)"
      ],
      "metadata": {
        "id": "v0VElGwTeT3j"
      },
      "execution_count": 21,
      "outputs": []
    },
    {
      "cell_type": "code",
      "source": [
        "print(\"Length of training data:\", len(train_set))\n",
        "print(\"Length of Validation data:\", len(val_set))\n",
        "print(\"Length of testing data:\", len(test_set))\n",
        "print(\"Length of total data:\", len(df10))"
      ],
      "metadata": {
        "colab": {
          "base_uri": "https://localhost:8080/"
        },
        "id": "RZ29e_zseWzE",
        "outputId": "3d77b9b1-3246-4828-ca12-b1ed03175c50"
      },
      "execution_count": 22,
      "outputs": [
        {
          "output_type": "stream",
          "name": "stdout",
          "text": [
            "Length of training data: 22892\n",
            "Length of Validation data: 5724\n",
            "Length of testing data: 7154\n",
            "Length of total data: 35770\n"
          ]
        }
      ]
    },
    {
      "cell_type": "markdown",
      "source": [
        "aassigning dependent and independent variables"
      ],
      "metadata": {
        "id": "PFIHoV-QengK"
      }
    },
    {
      "cell_type": "code",
      "source": [
        "y_train = train_set['Amount_Spent']\n",
        "X_train = train_set.drop(['Amount_Spent'], axis=1)\n",
        "\n",
        "y_valid = val_set['Amount_Spent']\n",
        "X_valid = val_set.drop(['Amount_Spent'], axis=1)\n",
        "\n",
        "y_test = test_set['Amount_Spent']\n",
        "X_test = test_set.drop(['Amount_Spent'], axis=1)"
      ],
      "metadata": {
        "id": "cKas3b6meaqP"
      },
      "execution_count": 23,
      "outputs": []
    },
    {
      "cell_type": "markdown",
      "source": [
        "Encoding Cat variables"
      ],
      "metadata": {
        "id": "gavea_qkek_v"
      }
    },
    {
      "cell_type": "code",
      "source": [
        "X_train = pd.get_dummies(X_train, drop_first=True)\n",
        "X_valid = pd.get_dummies(X_valid,drop_first=True)\n",
        "X_test = pd.get_dummies(X_test,drop_first=True)"
      ],
      "metadata": {
        "id": "eDMVpE_veeB3"
      },
      "execution_count": 24,
      "outputs": []
    },
    {
      "cell_type": "markdown",
      "source": [
        "Scaling the data"
      ],
      "metadata": {
        "id": "Wb7lTvq3euXJ"
      }
    },
    {
      "cell_type": "code",
      "source": [
        "from sklearn.preprocessing import StandardScaler\n",
        "scaler = StandardScaler()"
      ],
      "metadata": {
        "id": "hq0piHF-ewRV"
      },
      "execution_count": 25,
      "outputs": []
    },
    {
      "cell_type": "code",
      "source": [
        "X_train_S = scaler.fit_transform(X_train)\n",
        "X_valid_S = scaler.fit_transform(X_valid)\n",
        "X_test_S = scaler.fit_transform(X_test)"
      ],
      "metadata": {
        "id": "5sZEkUdVejNY"
      },
      "execution_count": 26,
      "outputs": []
    },
    {
      "cell_type": "markdown",
      "source": [
        "Linear Regression"
      ],
      "metadata": {
        "id": "HjpHVAgde4HF"
      }
    },
    {
      "cell_type": "code",
      "source": [
        "from sklearn.linear_model import LinearRegression\n",
        "\n",
        "lin_reg = LinearRegression()\n",
        "lin_reg.fit(X_train_S, y_train)\n",
        "\n",
        "from sklearn.metrics import mean_squared_error\n",
        "\n",
        "y_predictions = lin_reg.predict(X_valid_S)\n",
        "lin_mse = mean_squared_error(y_valid, y_predictions)\n",
        "lin_rmse = np.sqrt(lin_mse)\n",
        "print(\" The linear regression model resulted in: \", lin_rmse)"
      ],
      "metadata": {
        "colab": {
          "base_uri": "https://localhost:8080/"
        },
        "id": "UUNSACLZe1kh",
        "outputId": "4d82c370-bd85-4a2d-ac2a-5065a24ca40e"
      },
      "execution_count": 27,
      "outputs": [
        {
          "output_type": "stream",
          "name": "stdout",
          "text": [
            " The linear regression model resulted in:  72.32416027557117\n"
          ]
        }
      ]
    },
    {
      "cell_type": "code",
      "source": [
        "from sklearn.metrics import r2_score"
      ],
      "metadata": {
        "id": "vt4Zf9CBfFtd"
      },
      "execution_count": 29,
      "outputs": []
    },
    {
      "cell_type": "code",
      "source": [
        "LR_r2_score = r2_score(y_valid,y_predictions)\n",
        "print(\" The R2 Score of Linear Regression: \", LR_r2_score)"
      ],
      "metadata": {
        "colab": {
          "base_uri": "https://localhost:8080/"
        },
        "id": "WvTeVRUefG_-",
        "outputId": "f89cc2c3-b055-450e-c5d8-63874163b393"
      },
      "execution_count": 30,
      "outputs": [
        {
          "output_type": "stream",
          "name": "stdout",
          "text": [
            " The R2 Score of Linear Regression:  0.36124316302860604\n"
          ]
        }
      ]
    },
    {
      "cell_type": "markdown",
      "source": [
        "Decision Trees"
      ],
      "metadata": {
        "id": "s1-ANdkZfWuX"
      }
    },
    {
      "cell_type": "code",
      "source": [
        "from sklearn.tree import DecisionTreeRegressor\n",
        "\n",
        "tree_reg = DecisionTreeRegressor()\n",
        "tree_reg.fit(X_train_S, y_train)"
      ],
      "metadata": {
        "colab": {
          "base_uri": "https://localhost:8080/"
        },
        "id": "T8_1XUb-fagz",
        "outputId": "7a7468ed-91ed-43a5-ea65-3c880821afee"
      },
      "execution_count": 31,
      "outputs": [
        {
          "output_type": "execute_result",
          "data": {
            "text/plain": [
              "DecisionTreeRegressor()"
            ]
          },
          "metadata": {},
          "execution_count": 31
        }
      ]
    },
    {
      "cell_type": "code",
      "source": [
        "y_predictions = tree_reg.predict(X_valid_S)\n",
        "tree_mse = mean_squared_error(y_valid, y_predictions)\n",
        "tree_rmse = np.sqrt(tree_mse)\n",
        "print(\" The decision tree model resulted in: \", tree_rmse)"
      ],
      "metadata": {
        "colab": {
          "base_uri": "https://localhost:8080/"
        },
        "id": "QulgkibrfeDX",
        "outputId": "dd0aa38e-c720-4c5f-dd78-70bb8086ce4a"
      },
      "execution_count": 32,
      "outputs": [
        {
          "output_type": "stream",
          "name": "stdout",
          "text": [
            " The decision tree model resulted in:  28.282649866227626\n"
          ]
        }
      ]
    },
    {
      "cell_type": "code",
      "source": [
        "dt_r2_score = r2_score(y_valid,y_predictions)\n",
        "print(\" The R2 Score of the Decision Tree Model: \", dt_r2_score)"
      ],
      "metadata": {
        "colab": {
          "base_uri": "https://localhost:8080/"
        },
        "id": "UQikB_Olfi7Q",
        "outputId": "463424aa-bc70-4b32-867c-ec11d986d9a4"
      },
      "execution_count": 33,
      "outputs": [
        {
          "output_type": "stream",
          "name": "stdout",
          "text": [
            " The R2 Score of the Decision Tree Model:  0.9023192566504834\n"
          ]
        }
      ]
    },
    {
      "cell_type": "markdown",
      "source": [
        "Random Forest Regressor"
      ],
      "metadata": {
        "id": "gdzni3E3frVv"
      }
    },
    {
      "cell_type": "code",
      "source": [
        "from sklearn.ensemble import RandomForestRegressor\n",
        "\n",
        "forest_reg = RandomForestRegressor()\n",
        "forest_reg.fit(X_train_S, y_train)"
      ],
      "metadata": {
        "colab": {
          "base_uri": "https://localhost:8080/"
        },
        "id": "Hurkudv1foeT",
        "outputId": "96f260de-8a7b-4471-ace2-49173cddaea6"
      },
      "execution_count": 34,
      "outputs": [
        {
          "output_type": "execute_result",
          "data": {
            "text/plain": [
              "RandomForestRegressor()"
            ]
          },
          "metadata": {},
          "execution_count": 34
        }
      ]
    },
    {
      "cell_type": "code",
      "source": [
        "y_predictions = forest_reg.predict(X_valid_S)\n",
        "forest_mse = mean_squared_error(y_valid, y_predictions)\n",
        "forest_rmse = np.sqrt(forest_mse)\n",
        "print(\" The decision Random Forest model resulted in: \", forest_rmse)"
      ],
      "metadata": {
        "colab": {
          "base_uri": "https://localhost:8080/"
        },
        "id": "PVOmEAgKfxes",
        "outputId": "cf92d0de-2bf1-4963-e73d-f701fa2503cb"
      },
      "execution_count": 35,
      "outputs": [
        {
          "output_type": "stream",
          "name": "stdout",
          "text": [
            " The decision Random Forest model resulted in:  27.14058321845091\n"
          ]
        }
      ]
    },
    {
      "cell_type": "code",
      "source": [
        "rf_r2_score = r2_score(y_valid,y_predictions)\n",
        "print(\" The R2 Score of Random Forest Regressor: \", rf_r2_score)"
      ],
      "metadata": {
        "colab": {
          "base_uri": "https://localhost:8080/"
        },
        "id": "NxtQ0pHif1sS",
        "outputId": "f05311b3-43db-4fa0-a500-3eaa8abb7487"
      },
      "execution_count": 36,
      "outputs": [
        {
          "output_type": "stream",
          "name": "stdout",
          "text": [
            " The R2 Score of Random Forest Regressor:  0.9100487684971896\n"
          ]
        }
      ]
    },
    {
      "cell_type": "markdown",
      "source": [
        "KNN"
      ],
      "metadata": {
        "id": "ZwY2Z7K5f8N_"
      }
    },
    {
      "cell_type": "code",
      "source": [
        "from sklearn import neighbors\n",
        "from sklearn.metrics import mean_squared_error\n",
        "from math import sqrt\n",
        "import matplotlib.pyplot as plt\n",
        "from sklearn.feature_selection import RFECV"
      ],
      "metadata": {
        "id": "iST9rkmLf5vu"
      },
      "execution_count": 37,
      "outputs": []
    },
    {
      "cell_type": "code",
      "source": [
        "rmse_val = [ ]\n",
        "k_range = range(1, 30)\n",
        "for K in k_range:\n",
        "  model= neighbors.KNeighborsRegressor(n_neighbors=K)\n",
        "  model.fit(X_train_S,y_train)\n",
        "  pred1 = model.predict(X_valid_S)\n",
        "  error = sqrt(mean_squared_error(y_valid,pred1))\n",
        "  rmse_val.append(error)\n",
        "  print(\"RMSE value for k=\", K, 'is:', error)"
      ],
      "metadata": {
        "colab": {
          "base_uri": "https://localhost:8080/"
        },
        "id": "TnjcP8Cef-db",
        "outputId": "835d8669-9024-4993-c027-1df5d967cc46"
      },
      "execution_count": 38,
      "outputs": [
        {
          "output_type": "stream",
          "name": "stdout",
          "text": [
            "RMSE value for k= 1 is: 27.39649639479459\n",
            "RMSE value for k= 2 is: 33.452960534109394\n",
            "RMSE value for k= 3 is: 33.66863837801926\n",
            "RMSE value for k= 4 is: 34.0527004586829\n",
            "RMSE value for k= 5 is: 34.92734212188942\n",
            "RMSE value for k= 6 is: 36.25533358703866\n",
            "RMSE value for k= 7 is: 38.42532446601035\n",
            "RMSE value for k= 8 is: 39.79662952838577\n",
            "RMSE value for k= 9 is: 41.98425537351101\n",
            "RMSE value for k= 10 is: 43.4005341513114\n",
            "RMSE value for k= 11 is: 44.78904871261761\n",
            "RMSE value for k= 12 is: 44.09132672423089\n",
            "RMSE value for k= 13 is: 44.143610627171554\n",
            "RMSE value for k= 14 is: 45.571339113714586\n",
            "RMSE value for k= 15 is: 46.851163318383186\n",
            "RMSE value for k= 16 is: 47.019857453694556\n",
            "RMSE value for k= 17 is: 47.38451502053932\n",
            "RMSE value for k= 18 is: 48.67214787987953\n",
            "RMSE value for k= 19 is: 49.66527078388558\n",
            "RMSE value for k= 20 is: 50.27992381487008\n",
            "RMSE value for k= 21 is: 51.04470678474102\n",
            "RMSE value for k= 22 is: 51.84895306725306\n",
            "RMSE value for k= 23 is: 52.44981736079262\n",
            "RMSE value for k= 24 is: 52.076635693051266\n",
            "RMSE value for k= 25 is: 52.52922133198992\n",
            "RMSE value for k= 26 is: 52.70372586694493\n",
            "RMSE value for k= 27 is: 53.185530488902515\n",
            "RMSE value for k= 28 is: 53.74889165759117\n",
            "RMSE value for k= 29 is: 54.17750395031761\n"
          ]
        }
      ]
    },
    {
      "cell_type": "code",
      "source": [
        "plt.figure(figsize=(12, 6))\n",
        "plt.plot(k_range, rmse_val, color='red', linestyle='dashed', marker='o',\n",
        "         markerfacecolor='blue', markersize=10)\n",
        "plt.title('Knn RMSE for Different K Values')\n",
        "plt.xlabel('K Value')\n",
        "plt.ylabel('RMSE Score')"
      ],
      "metadata": {
        "colab": {
          "base_uri": "https://localhost:8080/",
          "height": 421
        },
        "id": "_-z5Qxgyglaj",
        "outputId": "041e7e39-a9bb-48be-c21e-c158da05950b"
      },
      "execution_count": 39,
      "outputs": [
        {
          "output_type": "execute_result",
          "data": {
            "text/plain": [
              "Text(0, 0.5, 'RMSE Score')"
            ]
          },
          "metadata": {},
          "execution_count": 39
        },
        {
          "output_type": "display_data",
          "data": {
            "text/plain": [
              "<Figure size 864x432 with 1 Axes>"
            ],
            "image/png": "[encoded data removed]"
          },
          "metadata": {
            "needs_background": "light"
          }
        }
      ]
    },
    {
      "cell_type": "code",
      "source": [
        "\n",
        "\n",
        "rmse_val = np.array(rmse_val)\n",
        "best_rmse_score = rmse_val[rmse_val.argmin()]\n",
        "best_k = k_range[rmse_val.argmin()]\n",
        "\n",
        "print(f'Best K={best_k} achieved a RMSE = {best_rmse_score :.4f}')"
      ],
      "metadata": {
        "colab": {
          "base_uri": "https://localhost:8080/"
        },
        "id": "ZSvZoOM5gnG1",
        "outputId": "02a9ba38-df97-4095-c2cc-dbf57b5ed260"
      },
      "execution_count": 40,
      "outputs": [
        {
          "output_type": "stream",
          "name": "stdout",
          "text": [
            "Best K=1 achieved a RMSE = 27.3965\n"
          ]
        }
      ]
    },
    {
      "cell_type": "markdown",
      "source": [
        "optimizing the lowest RMSE model"
      ],
      "metadata": {
        "id": "-8WdZ5UEgvM4"
      }
    },
    {
      "cell_type": "code",
      "source": [
        "from sklearn.model_selection import GridSearchCV\n",
        "\n",
        "param_grid = [\n",
        "    {'n_estimators': [3, 10, 30], 'max_features': [2, 4, 6, 8, 10]},\n",
        "    {'bootstrap': [False], 'n_estimators': [3, 5, 10], 'max_features': [2,3,4,8]},          \n",
        "]\n",
        "\n",
        "forest_reg = RandomForestRegressor()\n",
        "\n",
        "grid_search = GridSearchCV(forest_reg, param_grid, cv=5,\n",
        "                           scoring='neg_mean_squared_error',\n",
        "                           return_train_score=True)\n",
        "\n",
        "grid_search.fit(X_train_S, y_train)"
      ],
      "metadata": {
        "colab": {
          "base_uri": "https://localhost:8080/"
        },
        "id": "cl_gGHMggxlS",
        "outputId": "bf235f4e-0e37-4681-ddd9-dab769adab0d"
      },
      "execution_count": 41,
      "outputs": [
        {
          "output_type": "execute_result",
          "data": {
            "text/plain": [
              "GridSearchCV(cv=5, estimator=RandomForestRegressor(),\n",
              "             param_grid=[{'max_features': [2, 4, 6, 8, 10],\n",
              "                          'n_estimators': [3, 10, 30]},\n",
              "                         {'bootstrap': [False], 'max_features': [2, 3, 4, 8],\n",
              "                          'n_estimators': [3, 5, 10]}],\n",
              "             return_train_score=True, scoring='neg_mean_squared_error')"
            ]
          },
          "metadata": {},
          "execution_count": 41
        }
      ]
    },
    {
      "cell_type": "code",
      "source": [
        "grid_search.best_params_"
      ],
      "metadata": {
        "colab": {
          "base_uri": "https://localhost:8080/"
        },
        "id": "gOFKC2zqg40R",
        "outputId": "e870b270-dedc-4105-b151-d672bc15b19e"
      },
      "execution_count": 42,
      "outputs": [
        {
          "output_type": "execute_result",
          "data": {
            "text/plain": [
              "{'bootstrap': False, 'max_features': 8, 'n_estimators': 10}"
            ]
          },
          "metadata": {},
          "execution_count": 42
        }
      ]
    },
    {
      "cell_type": "code",
      "source": [
        "grid_search.best_estimator_"
      ],
      "metadata": {
        "colab": {
          "base_uri": "https://localhost:8080/"
        },
        "id": "n_njRTVqg7x-",
        "outputId": "3a9388a0-bc25-45b4-b44d-4bcd48ec9c99"
      },
      "execution_count": 43,
      "outputs": [
        {
          "output_type": "execute_result",
          "data": {
            "text/plain": [
              "RandomForestRegressor(bootstrap=False, max_features=8, n_estimators=10)"
            ]
          },
          "metadata": {},
          "execution_count": 43
        }
      ]
    },
    {
      "cell_type": "code",
      "source": [
        "final_model = grid_search.best_estimator_\n",
        "\n",
        "final_predictions = final_model.predict(X_test_S)\n",
        "final_mse = mean_squared_error(y_test, final_predictions)\n",
        "final_rmse = np.sqrt(final_mse)\n",
        "final_rmse"
      ],
      "metadata": {
        "colab": {
          "base_uri": "https://localhost:8080/"
        },
        "id": "hLo7IucSg-2K",
        "outputId": "558a8174-c929-4976-eb08-54f3d4de62f8"
      },
      "execution_count": 44,
      "outputs": [
        {
          "output_type": "execute_result",
          "data": {
            "text/plain": [
              "34.82915193027037"
            ]
          },
          "metadata": {},
          "execution_count": 44
        }
      ]
    },
    {
      "cell_type": "code",
      "source": [
        "from scipy import stats\n",
        "\n",
        "confidence = 0.95\n",
        "squared_errors = (final_predictions - y_test)**2\n",
        "np.sqrt(stats.t.interval(confidence, len(squared_errors)-1,\n",
        "                         loc=squared_errors.mean(),\n",
        "                         scale=stats.sem(squared_errors)))"
      ],
      "metadata": {
        "colab": {
          "base_uri": "https://localhost:8080/"
        },
        "id": "ehK77ysKhGEB",
        "outputId": "9407fcb8-6718-4781-8e65-f831dbdf4025"
      },
      "execution_count": 45,
      "outputs": [
        {
          "output_type": "execute_result",
          "data": {
            "text/plain": [
              "array([25.45452356, 42.16879034])"
            ]
          },
          "metadata": {},
          "execution_count": 45
        }
      ]
    }
  ]
}